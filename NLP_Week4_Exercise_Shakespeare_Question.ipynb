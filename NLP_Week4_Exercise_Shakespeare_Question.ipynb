{
  "nbformat": 4,
  "nbformat_minor": 0,
  "metadata": {
    "accelerator": "GPU",
    "colab": {
      "name": "NLP_Week4_Exercise_Shakespeare_Question.ipynb",
      "provenance": [],
      "include_colab_link": true
    },
    "kernelspec": {
      "display_name": "Python 3",
      "name": "python3"
    }
  },
  "cells": [
    {
      "cell_type": "markdown",
      "metadata": {
        "id": "view-in-github",
        "colab_type": "text"
      },
      "source": [
        "<a href=\"https://colab.research.google.com/github/ftcelepcikay/NLP-in-Tensorflow/blob/master/NLP_Week4_Exercise_Shakespeare_Question.ipynb\" target=\"_parent\"><img src=\"https://colab.research.google.com/assets/colab-badge.svg\" alt=\"Open In Colab\"/></a>"
      ]
    },
    {
      "cell_type": "code",
      "metadata": {
        "id": "zX4Kg8DUTKWO",
        "colab_type": "code",
        "colab": {}
      },
      "source": [
        "#@title Licensed under the Apache License, Version 2.0 (the \"License\");\n",
        "# you may not use this file except in compliance with the License.\n",
        "# You may obtain a copy of the License at\n",
        "#\n",
        "# https://www.apache.org/licenses/LICENSE-2.0\n",
        "#\n",
        "# Unless required by applicable law or agreed to in writing, software\n",
        "# distributed under the License is distributed on an \"AS IS\" BASIS,\n",
        "# WITHOUT WARRANTIES OR CONDITIONS OF ANY KIND, either express or implied.\n",
        "# See the License for the specific language governing permissions and\n",
        "# limitations under the License."
      ],
      "execution_count": 0,
      "outputs": []
    },
    {
      "cell_type": "code",
      "metadata": {
        "colab_type": "code",
        "id": "BOwsuGQQY9OL",
        "colab": {}
      },
      "source": [
        "from tensorflow.keras.preprocessing.sequence import pad_sequences\n",
        "from tensorflow.keras.layers import Embedding, LSTM, Dense, Dropout, Bidirectional\n",
        "from tensorflow.keras.preprocessing.text import Tokenizer\n",
        "from tensorflow.keras.models import Sequential\n",
        "from tensorflow.keras.optimizers import Adam\n",
        "### YOUR CODE HERE\n",
        "# Figure out how to import regularizers\n",
        "from tensorflow.keras import regularizers\n",
        "###\n",
        "import tensorflow.keras.utils as ku \n",
        "import numpy as np "
      ],
      "execution_count": 0,
      "outputs": []
    },
    {
      "cell_type": "code",
      "metadata": {
        "colab_type": "code",
        "id": "PRnDnCW-Z7qv",
        "outputId": "46e43565-6ad8-4e8b-be68-a7d4864fcec4",
        "colab": {
          "base_uri": "https://localhost:8080/",
          "height": 202
        }
      },
      "source": [
        "tokenizer = Tokenizer()\n",
        "!wget --no-check-certificate \\\n",
        "    https://storage.googleapis.com/laurencemoroney-blog.appspot.com/sonnets.txt \\\n",
        "    -O /tmp/sonnets.txt\n",
        "data = open('/tmp/sonnets.txt').read()\n",
        "\n",
        "corpus = data.lower().split(\"\\n\")\n",
        "\n",
        "\n",
        "tokenizer.fit_on_texts(corpus)\n",
        "total_words = len(tokenizer.word_index) + 1\n",
        "\n",
        "# create input sequences using list of tokens\n",
        "input_sequences = []\n",
        "for line in corpus:\n",
        "\ttoken_list = tokenizer.texts_to_sequences([line])[0]\n",
        "\tfor i in range(1, len(token_list)):\n",
        "\t\tn_gram_sequence = token_list[:i+1]\n",
        "\t\tinput_sequences.append(n_gram_sequence)\n",
        "\n",
        "\n",
        "# pad sequences \n",
        "max_sequence_len = max([len(x) for x in input_sequences])\n",
        "input_sequences = np.array(pad_sequences(input_sequences, maxlen=max_sequence_len, padding='pre'))\n",
        "\n",
        "# create predictors and label\n",
        "# FTC: last element is label.\n",
        "predictors, label = input_sequences[:,:-1],input_sequences[:,-1]\n",
        "\n",
        "label = ku.to_categorical(label, num_classes=total_words)"
      ],
      "execution_count": 0,
      "outputs": [
        {
          "output_type": "stream",
          "text": [
            "--2020-04-30 12:40:32--  https://storage.googleapis.com/laurencemoroney-blog.appspot.com/sonnets.txt\n",
            "Resolving storage.googleapis.com (storage.googleapis.com)... 172.217.14.112, 2607:f8b0:4007:803::2010\n",
            "Connecting to storage.googleapis.com (storage.googleapis.com)|172.217.14.112|:443... connected.\n",
            "HTTP request sent, awaiting response... 200 OK\n",
            "Length: 93578 (91K) [text/plain]\n",
            "Saving to: ‘/tmp/sonnets.txt’\n",
            "\n",
            "\r/tmp/sonnets.txt      0%[                    ]       0  --.-KB/s               \r/tmp/sonnets.txt    100%[===================>]  91.38K  --.-KB/s    in 0.001s  \n",
            "\n",
            "2020-04-30 12:40:33 (113 MB/s) - ‘/tmp/sonnets.txt’ saved [93578/93578]\n",
            "\n"
          ],
          "name": "stdout"
        }
      ]
    },
    {
      "cell_type": "code",
      "metadata": {
        "colab_type": "code",
        "id": "w9vH8Y59ajYL",
        "outputId": "d039f229-c8e6-4c0c-fc33-4d9296763e0d",
        "colab": {
          "base_uri": "https://localhost:8080/",
          "height": 370
        }
      },
      "source": [
        "model = Sequential()\n",
        "# FTC: Note that input_length=max_sequence_len-1. Because the last elem is label.\n",
        "model.add(Embedding(total_words,100, input_length=max_sequence_len-1))\n",
        "model.add(Bidirectional(LSTM(150, return_sequences=True)))\n",
        "model.add(Dropout(0.25))\n",
        "model.add(LSTM(75))\n",
        "model.add(Dense(total_words/2, activation='relu', kernel_regularizer=regularizers.l2(0.01)))\n",
        "model.add(Dense(total_words, activation='softmax'))\n",
        "# Pick an optimizer\n",
        "model.compile(loss='categorical_crossentropy', optimizer='adam', metrics=['accuracy'])\n",
        "print(model.summary())\n"
      ],
      "execution_count": 0,
      "outputs": [
        {
          "output_type": "stream",
          "text": [
            "Model: \"sequential\"\n",
            "_________________________________________________________________\n",
            "Layer (type)                 Output Shape              Param #   \n",
            "=================================================================\n",
            "embedding (Embedding)        (None, 10, 100)           321100    \n",
            "_________________________________________________________________\n",
            "bidirectional (Bidirectional (None, 10, 300)           301200    \n",
            "_________________________________________________________________\n",
            "dropout (Dropout)            (None, 10, 300)           0         \n",
            "_________________________________________________________________\n",
            "lstm_1 (LSTM)                (None, 75)                112800    \n",
            "_________________________________________________________________\n",
            "dense (Dense)                (None, 1605)              121980    \n",
            "_________________________________________________________________\n",
            "dense_1 (Dense)              (None, 3211)              5156866   \n",
            "=================================================================\n",
            "Total params: 6,013,946\n",
            "Trainable params: 6,013,946\n",
            "Non-trainable params: 0\n",
            "_________________________________________________________________\n",
            "None\n"
          ],
          "name": "stdout"
        }
      ]
    },
    {
      "cell_type": "code",
      "metadata": {
        "colab_type": "code",
        "id": "AIg2f1HBxqof",
        "outputId": "d4333139-9148-46c9-c3b3-8ffe2bec8159",
        "colab": {
          "base_uri": "https://localhost:8080/",
          "height": 1000
        }
      },
      "source": [
        " history = model.fit(predictors, label, epochs=100, verbose=1)"
      ],
      "execution_count": 0,
      "outputs": [
        {
          "output_type": "stream",
          "text": [
            "Epoch 1/100\n",
            "484/484 [==============================] - 6s 13ms/step - loss: 6.8926 - accuracy: 0.0219\n",
            "Epoch 2/100\n",
            "484/484 [==============================] - 6s 13ms/step - loss: 6.4987 - accuracy: 0.0229\n",
            "Epoch 3/100\n",
            "484/484 [==============================] - 6s 13ms/step - loss: 6.3861 - accuracy: 0.0255\n",
            "Epoch 4/100\n",
            "484/484 [==============================] - 6s 13ms/step - loss: 6.2637 - accuracy: 0.0314\n",
            "Epoch 5/100\n",
            "484/484 [==============================] - 6s 13ms/step - loss: 6.1815 - accuracy: 0.0355\n",
            "Epoch 6/100\n",
            "484/484 [==============================] - 6s 13ms/step - loss: 6.1049 - accuracy: 0.0385\n",
            "Epoch 7/100\n",
            "484/484 [==============================] - 6s 13ms/step - loss: 6.0274 - accuracy: 0.0413\n",
            "Epoch 8/100\n",
            "484/484 [==============================] - 6s 13ms/step - loss: 5.9537 - accuracy: 0.0446\n",
            "Epoch 9/100\n",
            "484/484 [==============================] - 6s 13ms/step - loss: 5.8672 - accuracy: 0.0482\n",
            "Epoch 10/100\n",
            "484/484 [==============================] - 6s 13ms/step - loss: 5.7654 - accuracy: 0.0518\n",
            "Epoch 11/100\n",
            "484/484 [==============================] - 6s 13ms/step - loss: 5.6546 - accuracy: 0.0599\n",
            "Epoch 12/100\n",
            "484/484 [==============================] - 6s 13ms/step - loss: 5.5467 - accuracy: 0.0641\n",
            "Epoch 13/100\n",
            "484/484 [==============================] - 6s 13ms/step - loss: 5.4414 - accuracy: 0.0697\n",
            "Epoch 14/100\n",
            "484/484 [==============================] - 6s 13ms/step - loss: 5.3356 - accuracy: 0.0798\n",
            "Epoch 15/100\n",
            "484/484 [==============================] - 6s 13ms/step - loss: 5.2273 - accuracy: 0.0857\n",
            "Epoch 16/100\n",
            "484/484 [==============================] - 6s 13ms/step - loss: 5.1250 - accuracy: 0.0927\n",
            "Epoch 17/100\n",
            "484/484 [==============================] - 6s 13ms/step - loss: 5.0174 - accuracy: 0.0990\n",
            "Epoch 18/100\n",
            "484/484 [==============================] - 6s 13ms/step - loss: 4.9118 - accuracy: 0.1044\n",
            "Epoch 19/100\n",
            "484/484 [==============================] - 6s 13ms/step - loss: 4.8121 - accuracy: 0.1119\n",
            "Epoch 20/100\n",
            "484/484 [==============================] - 6s 13ms/step - loss: 4.7078 - accuracy: 0.1197\n",
            "Epoch 21/100\n",
            "484/484 [==============================] - 6s 13ms/step - loss: 4.6066 - accuracy: 0.1320\n",
            "Epoch 22/100\n",
            "484/484 [==============================] - 6s 13ms/step - loss: 4.5088 - accuracy: 0.1380\n",
            "Epoch 23/100\n",
            "484/484 [==============================] - 6s 13ms/step - loss: 4.4075 - accuracy: 0.1488\n",
            "Epoch 24/100\n",
            "484/484 [==============================] - 6s 13ms/step - loss: 4.3109 - accuracy: 0.1596\n",
            "Epoch 25/100\n",
            "484/484 [==============================] - 6s 13ms/step - loss: 4.2098 - accuracy: 0.1707\n",
            "Epoch 26/100\n",
            "484/484 [==============================] - 6s 13ms/step - loss: 4.1111 - accuracy: 0.1830\n",
            "Epoch 27/100\n",
            "484/484 [==============================] - 6s 13ms/step - loss: 4.0125 - accuracy: 0.1953\n",
            "Epoch 28/100\n",
            "484/484 [==============================] - 6s 13ms/step - loss: 3.9233 - accuracy: 0.2112\n",
            "Epoch 29/100\n",
            "484/484 [==============================] - 6s 13ms/step - loss: 3.8276 - accuracy: 0.2300\n",
            "Epoch 30/100\n",
            "484/484 [==============================] - 6s 13ms/step - loss: 3.7394 - accuracy: 0.2475\n",
            "Epoch 31/100\n",
            "484/484 [==============================] - 6s 13ms/step - loss: 3.6656 - accuracy: 0.2635\n",
            "Epoch 32/100\n",
            "484/484 [==============================] - 6s 13ms/step - loss: 3.5783 - accuracy: 0.2783\n",
            "Epoch 33/100\n",
            "484/484 [==============================] - 6s 13ms/step - loss: 3.4869 - accuracy: 0.2982\n",
            "Epoch 34/100\n",
            "484/484 [==============================] - 6s 13ms/step - loss: 3.4155 - accuracy: 0.3146\n",
            "Epoch 35/100\n",
            "484/484 [==============================] - 6s 13ms/step - loss: 3.3436 - accuracy: 0.3265\n",
            "Epoch 36/100\n",
            "484/484 [==============================] - 6s 13ms/step - loss: 3.2774 - accuracy: 0.3428\n",
            "Epoch 37/100\n",
            "484/484 [==============================] - 6s 13ms/step - loss: 3.1976 - accuracy: 0.3622\n",
            "Epoch 38/100\n",
            "484/484 [==============================] - 6s 13ms/step - loss: 3.1282 - accuracy: 0.3752\n",
            "Epoch 39/100\n",
            "484/484 [==============================] - 6s 13ms/step - loss: 3.0690 - accuracy: 0.3890\n",
            "Epoch 40/100\n",
            "484/484 [==============================] - 6s 13ms/step - loss: 2.9970 - accuracy: 0.4049\n",
            "Epoch 41/100\n",
            "484/484 [==============================] - 6s 13ms/step - loss: 2.9369 - accuracy: 0.4176\n",
            "Epoch 42/100\n",
            "484/484 [==============================] - 6s 13ms/step - loss: 2.8848 - accuracy: 0.4314\n",
            "Epoch 43/100\n",
            "484/484 [==============================] - 6s 13ms/step - loss: 2.8190 - accuracy: 0.4448\n",
            "Epoch 44/100\n",
            "484/484 [==============================] - 6s 13ms/step - loss: 2.7655 - accuracy: 0.4574\n",
            "Epoch 45/100\n",
            "484/484 [==============================] - 6s 13ms/step - loss: 2.7114 - accuracy: 0.4648\n",
            "Epoch 46/100\n",
            "484/484 [==============================] - 6s 13ms/step - loss: 2.6574 - accuracy: 0.4784\n",
            "Epoch 47/100\n",
            "484/484 [==============================] - 6s 13ms/step - loss: 2.6081 - accuracy: 0.4901\n",
            "Epoch 48/100\n",
            "484/484 [==============================] - 6s 13ms/step - loss: 2.5483 - accuracy: 0.5069\n",
            "Epoch 49/100\n",
            "484/484 [==============================] - 6s 12ms/step - loss: 2.5164 - accuracy: 0.5143\n",
            "Epoch 50/100\n",
            "484/484 [==============================] - 6s 12ms/step - loss: 2.4697 - accuracy: 0.5173\n",
            "Epoch 51/100\n",
            "484/484 [==============================] - 6s 13ms/step - loss: 2.4233 - accuracy: 0.5321\n",
            "Epoch 52/100\n",
            "484/484 [==============================] - 6s 13ms/step - loss: 2.3770 - accuracy: 0.5420\n",
            "Epoch 53/100\n",
            "484/484 [==============================] - 6s 13ms/step - loss: 2.3326 - accuracy: 0.5523\n",
            "Epoch 54/100\n",
            "484/484 [==============================] - 6s 13ms/step - loss: 2.3006 - accuracy: 0.5570\n",
            "Epoch 55/100\n",
            "484/484 [==============================] - 6s 13ms/step - loss: 2.2598 - accuracy: 0.5649\n",
            "Epoch 56/100\n",
            "484/484 [==============================] - 6s 13ms/step - loss: 2.2142 - accuracy: 0.5785\n",
            "Epoch 57/100\n",
            "484/484 [==============================] - 6s 13ms/step - loss: 2.1727 - accuracy: 0.5867\n",
            "Epoch 58/100\n",
            "484/484 [==============================] - 6s 13ms/step - loss: 2.1509 - accuracy: 0.5846\n",
            "Epoch 59/100\n",
            "484/484 [==============================] - 6s 13ms/step - loss: 2.1132 - accuracy: 0.5962\n",
            "Epoch 60/100\n",
            "484/484 [==============================] - 6s 13ms/step - loss: 2.0830 - accuracy: 0.6046\n",
            "Epoch 61/100\n",
            "484/484 [==============================] - 6s 13ms/step - loss: 2.0325 - accuracy: 0.6170\n",
            "Epoch 62/100\n",
            "484/484 [==============================] - 6s 13ms/step - loss: 2.0027 - accuracy: 0.6202\n",
            "Epoch 63/100\n",
            "484/484 [==============================] - 6s 13ms/step - loss: 1.9741 - accuracy: 0.6314\n",
            "Epoch 64/100\n",
            "484/484 [==============================] - 6s 13ms/step - loss: 1.9529 - accuracy: 0.6334\n",
            "Epoch 65/100\n",
            "484/484 [==============================] - 6s 12ms/step - loss: 1.9281 - accuracy: 0.6381\n",
            "Epoch 66/100\n",
            "484/484 [==============================] - 6s 13ms/step - loss: 1.8976 - accuracy: 0.6463\n",
            "Epoch 67/100\n",
            "484/484 [==============================] - 6s 13ms/step - loss: 1.8540 - accuracy: 0.6539\n",
            "Epoch 68/100\n",
            "484/484 [==============================] - 6s 13ms/step - loss: 1.8474 - accuracy: 0.6562\n",
            "Epoch 69/100\n",
            "484/484 [==============================] - 6s 13ms/step - loss: 1.8176 - accuracy: 0.6596\n",
            "Epoch 70/100\n",
            "484/484 [==============================] - 6s 13ms/step - loss: 1.7962 - accuracy: 0.6685\n",
            "Epoch 71/100\n",
            "484/484 [==============================] - 6s 13ms/step - loss: 1.7759 - accuracy: 0.6707\n",
            "Epoch 72/100\n",
            "484/484 [==============================] - 6s 13ms/step - loss: 1.7474 - accuracy: 0.6799\n",
            "Epoch 73/100\n",
            "484/484 [==============================] - 6s 12ms/step - loss: 1.7093 - accuracy: 0.6854\n",
            "Epoch 74/100\n",
            "484/484 [==============================] - 6s 12ms/step - loss: 1.6973 - accuracy: 0.6894\n",
            "Epoch 75/100\n",
            "484/484 [==============================] - 6s 13ms/step - loss: 1.6677 - accuracy: 0.6936\n",
            "Epoch 76/100\n",
            "484/484 [==============================] - 6s 12ms/step - loss: 1.6490 - accuracy: 0.6962\n",
            "Epoch 77/100\n",
            "484/484 [==============================] - 6s 13ms/step - loss: 1.6403 - accuracy: 0.7014\n",
            "Epoch 78/100\n",
            "484/484 [==============================] - 6s 13ms/step - loss: 1.6083 - accuracy: 0.7066\n",
            "Epoch 79/100\n",
            "484/484 [==============================] - 6s 12ms/step - loss: 1.5814 - accuracy: 0.7101\n",
            "Epoch 80/100\n",
            "484/484 [==============================] - 6s 13ms/step - loss: 1.5748 - accuracy: 0.7131\n",
            "Epoch 81/100\n",
            "484/484 [==============================] - 6s 13ms/step - loss: 1.5469 - accuracy: 0.7194\n",
            "Epoch 82/100\n",
            "484/484 [==============================] - 6s 12ms/step - loss: 1.5322 - accuracy: 0.7199\n",
            "Epoch 83/100\n",
            "484/484 [==============================] - 6s 13ms/step - loss: 1.5324 - accuracy: 0.7186\n",
            "Epoch 84/100\n",
            "484/484 [==============================] - 6s 13ms/step - loss: 1.5068 - accuracy: 0.7261\n",
            "Epoch 85/100\n",
            "484/484 [==============================] - 6s 13ms/step - loss: 1.4807 - accuracy: 0.7299\n",
            "Epoch 86/100\n",
            "484/484 [==============================] - 6s 12ms/step - loss: 1.4623 - accuracy: 0.7355\n",
            "Epoch 87/100\n",
            "484/484 [==============================] - 6s 12ms/step - loss: 1.4470 - accuracy: 0.7375\n",
            "Epoch 88/100\n",
            "484/484 [==============================] - 6s 12ms/step - loss: 1.4424 - accuracy: 0.7374\n",
            "Epoch 89/100\n",
            "484/484 [==============================] - 6s 12ms/step - loss: 1.4268 - accuracy: 0.7398\n",
            "Epoch 90/100\n",
            "484/484 [==============================] - 6s 12ms/step - loss: 1.4236 - accuracy: 0.7394\n",
            "Epoch 91/100\n",
            "484/484 [==============================] - 6s 13ms/step - loss: 1.3961 - accuracy: 0.7481\n",
            "Epoch 92/100\n",
            "484/484 [==============================] - 6s 13ms/step - loss: 1.3807 - accuracy: 0.7520\n",
            "Epoch 93/100\n",
            "484/484 [==============================] - 6s 13ms/step - loss: 1.3666 - accuracy: 0.7521\n",
            "Epoch 94/100\n",
            "484/484 [==============================] - 6s 13ms/step - loss: 1.3575 - accuracy: 0.7542\n",
            "Epoch 95/100\n",
            "484/484 [==============================] - 6s 13ms/step - loss: 1.3532 - accuracy: 0.7537\n",
            "Epoch 96/100\n",
            "484/484 [==============================] - 6s 13ms/step - loss: 1.3450 - accuracy: 0.7558\n",
            "Epoch 97/100\n",
            "484/484 [==============================] - 6s 13ms/step - loss: 1.3194 - accuracy: 0.7621\n",
            "Epoch 98/100\n",
            "484/484 [==============================] - 6s 13ms/step - loss: 1.3057 - accuracy: 0.7634\n",
            "Epoch 99/100\n",
            "484/484 [==============================] - 6s 12ms/step - loss: 1.3043 - accuracy: 0.7634\n",
            "Epoch 100/100\n",
            "484/484 [==============================] - 6s 13ms/step - loss: 1.2868 - accuracy: 0.7686\n"
          ],
          "name": "stdout"
        }
      ]
    },
    {
      "cell_type": "code",
      "metadata": {
        "colab_type": "code",
        "id": "1fXTEO3GJ282",
        "outputId": "ed6082a4-e0f1-49ff-83af-2cbdf06a583c",
        "colab": {
          "base_uri": "https://localhost:8080/",
          "height": 545
        }
      },
      "source": [
        "import matplotlib.pyplot as plt\n",
        "acc = history.history['accuracy']\n",
        "loss = history.history['loss']\n",
        "\n",
        "epochs = range(len(acc))\n",
        "\n",
        "plt.plot(epochs, acc, 'b', label='Training accuracy')\n",
        "plt.title('Training accuracy')\n",
        "\n",
        "plt.figure()\n",
        "\n",
        "plt.plot(epochs, loss, 'b', label='Training Loss')\n",
        "plt.title('Training loss')\n",
        "plt.legend()\n",
        "\n",
        "plt.show()"
      ],
      "execution_count": 0,
      "outputs": [
        {
          "output_type": "display_data",
          "data": {
            "image/png": "[encoded data removed]",
            "text/plain": [
              "<Figure size 432x288 with 1 Axes>"
            ]
          },
          "metadata": {
            "tags": [],
            "needs_background": "light"
          }
        },
        {
          "output_type": "display_data",
          "data": {
            "image/png": "[encoded data removed]",
            "text/plain": [
              "<Figure size 432x288 with 1 Axes>"
            ]
          },
          "metadata": {
            "tags": [],
            "needs_background": "light"
          }
        }
      ]
    },
    {
      "cell_type": "code",
      "metadata": {
        "colab_type": "code",
        "id": "6Vc6PHgxa6Hm",
        "outputId": "e626246e-c379-4891-faa5-7ebd030a07c1",
        "colab": {
          "base_uri": "https://localhost:8080/",
          "height": 104
        }
      },
      "source": [
        "seed_text = \"Help me Obi Wan Kenobi, you're my only hope\"\n",
        "next_words = 100\n",
        "  \n",
        "for _ in range(next_words):\n",
        "\ttoken_list = tokenizer.texts_to_sequences([seed_text])[0]\n",
        "\t# FTC: Note that  maxlen=max_sequence_len-1\n",
        "\ttoken_list = pad_sequences([token_list], maxlen=max_sequence_len-1, padding='pre')\n",
        "\tpredicted = model.predict_classes(token_list, verbose=0)\n",
        "\toutput_word = \"\"\n",
        "\tfor word, index in tokenizer.word_index.items():\n",
        "\t\tif index == predicted:\n",
        "\t\t\toutput_word = word\n",
        "\t\t\tbreak\n",
        "\tseed_text += \" \" + output_word\n",
        "print(seed_text)"
      ],
      "execution_count": 0,
      "outputs": [
        {
          "output_type": "stream",
          "text": [
            "WARNING:tensorflow:From <ipython-input-10-2f72de364432>:8: Sequential.predict_classes (from tensorflow.python.keras.engine.sequential) is deprecated and will be removed after 2021-01-01.\n",
            "Instructions for updating:\n",
            "Please use instead:* `np.argmax(model.predict(x), axis=-1)`,   if your model does multi-class classification   (e.g. if it uses a `softmax` last-layer activation).* `(model.predict(x) > 0.5).astype(\"int32\")`,   if your model does binary classification   (e.g. if it uses a `sigmoid` last-layer activation).\n",
            "Help me Obi Wan Kenobi, you're my only hope your tongue tied still with stand to give me so foes bold forgot so deem'd new grow told to give thee thee thee lend thee 'tis twain beauteous twain foes commend brought a lease to have twain ' despair me remain new wrought thee all alone must behold write true thine change thine thine to be bright to sway seen give crave days out days out new ' so so eyes for thee but behold bring me so great verse so stand me to give behind love's cross staineth age ' dyed live hate better grow long grow old rhyme\n"
          ],
          "name": "stdout"
        }
      ]
    },
    {
      "cell_type": "code",
      "metadata": {
        "id": "WUN0ZI82MkzZ",
        "colab_type": "code",
        "colab": {}
      },
      "source": [
        ""
      ],
      "execution_count": 0,
      "outputs": []
    }
  ]
}