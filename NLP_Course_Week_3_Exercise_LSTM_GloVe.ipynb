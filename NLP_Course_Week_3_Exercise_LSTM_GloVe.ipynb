{
  "nbformat": 4,
  "nbformat_minor": 0,
  "metadata": {
    "accelerator": "GPU",
    "colab": {
      "name": "NLP Course - Week 3 Exercise Answer.ipynb",
      "provenance": [],
      "include_colab_link": true
    },
    "kernelspec": {
      "display_name": "Python 3",
      "name": "python3"
    }
  },
  "cells": [
    {
      "cell_type": "markdown",
      "metadata": {
        "id": "view-in-github",
        "colab_type": "text"
      },
      "source": [
        "<a href=\"https://colab.research.google.com/github/ftcelepcikay/NLP-in-Tensorflow/blob/master/NLP_Course_Week_3_Exercise_LSTM_GloVe.ipynb\" target=\"_parent\"><img src=\"https://colab.research.google.com/assets/colab-badge.svg\" alt=\"Open In Colab\"/></a>"
      ]
    },
    {
      "cell_type": "code",
      "metadata": {
        "id": "zX4Kg8DUTKWO",
        "colab_type": "code",
        "colab": {}
      },
      "source": [
        "#@title Licensed under the Apache License, Version 2.0 (the \"License\");\n",
        "# you may not use this file except in compliance with the License.\n",
        "# You may obtain a copy of the License at\n",
        "#\n",
        "# https://www.apache.org/licenses/LICENSE-2.0\n",
        "#\n",
        "# Unless required by applicable law or agreed to in writing, software\n",
        "# distributed under the License is distributed on an \"AS IS\" BASIS,\n",
        "# WITHOUT WARRANTIES OR CONDITIONS OF ANY KIND, either express or implied.\n",
        "# See the License for the specific language governing permissions and\n",
        "# limitations under the License."
      ],
      "execution_count": 0,
      "outputs": []
    },
    {
      "cell_type": "code",
      "metadata": {
        "colab_type": "code",
        "id": "hmA6EzkQJ5jt",
        "colab": {}
      },
      "source": [
        "import json\n",
        "import tensorflow as tf\n",
        "import csv\n",
        "import random\n",
        "import numpy as np\n",
        "\n",
        "from tensorflow.keras.preprocessing.text import Tokenizer\n",
        "from tensorflow.keras.preprocessing.sequence import pad_sequences\n",
        "from tensorflow.keras.utils import to_categorical\n",
        "from tensorflow.keras import regularizers\n",
        "\n",
        "\n",
        "embedding_dim = 100\n",
        "max_length = 16\n",
        "trunc_type='post'\n",
        "padding_type='post'\n",
        "oov_tok = \"<OOV>\"\n",
        "training_size=160000\n",
        "test_portion=.1\n",
        "\n",
        "corpus = []\n"
      ],
      "execution_count": 0,
      "outputs": []
    },
    {
      "cell_type": "code",
      "metadata": {
        "colab_type": "code",
        "id": "bM0l_dORKqE0",
        "outputId": "7d25d0ae-86b7-416f-cf76-81419d49c367",
        "colab": {
          "base_uri": "https://localhost:8080/",
          "height": 204
        }
      },
      "source": [
        "# Note that I cleaned the Stanford dataset to remove LATIN1 encoding to make it easier for Python CSV reader\n",
        "# You can do that yourself with:\n",
        "# iconv -f LATIN1 -t UTF8 training.1600000.processed.noemoticon.csv -o training_cleaned.csv\n",
        "# I then hosted it on my site to make it easier to use in this notebook\n",
        "\n",
        "!wget --no-check-certificate \\\n",
        "    https://storage.googleapis.com/laurencemoroney-blog.appspot.com/training_cleaned.csv \\\n",
        "    -O /tmp/training_cleaned.csv\n",
        "\n",
        "num_sentences = 0\n",
        "\n",
        "with open(\"/tmp/training_cleaned.csv\") as csvfile:\n",
        "    reader = csv.reader(csvfile, delimiter=',')\n",
        "    for row in reader:\n",
        "        list_item=[]\n",
        "        list_item.append(row[5])\n",
        "        this_label=row[0]\n",
        "        if this_label=='0':   # FTC: Note that label is a string.\n",
        "            list_item.append(0)\n",
        "        else:\n",
        "            list_item.append(1)\n",
        "        num_sentences = num_sentences + 1\n",
        "        corpus.append(list_item)\n"
      ],
      "execution_count": 0,
      "outputs": [
        {
          "output_type": "stream",
          "text": [
            "--2020-04-29 05:07:36--  https://storage.googleapis.com/laurencemoroney-blog.appspot.com/training_cleaned.csv\n",
            "Resolving storage.googleapis.com (storage.googleapis.com)... 74.125.199.128, 2607:f8b0:400e:c09::80\n",
            "Connecting to storage.googleapis.com (storage.googleapis.com)|74.125.199.128|:443... connected.\n",
            "HTTP request sent, awaiting response... 200 OK\n",
            "Length: 238942690 (228M) [application/octet-stream]\n",
            "Saving to: ‘/tmp/training_cleaned.csv’\n",
            "\n",
            "/tmp/training_clean 100%[===================>] 227.87M   116MB/s    in 2.0s    \n",
            "\n",
            "2020-04-29 05:07:38 (116 MB/s) - ‘/tmp/training_cleaned.csv’ saved [238942690/238942690]\n",
            "\n"
          ],
          "name": "stdout"
        }
      ]
    },
    {
      "cell_type": "code",
      "metadata": {
        "colab_type": "code",
        "id": "3kxblBUjEUX-",
        "outputId": "643ece08-2d3e-4116-c60b-d512b37cb307",
        "colab": {
          "base_uri": "https://localhost:8080/",
          "height": 88
        }
      },
      "source": [
        "print(num_sentences)\n",
        "print(len(corpus))\n",
        "print(corpus[1])\n",
        "\n",
        "# Expected Output:\n",
        "# 1600000\n",
        "# 1600000\n",
        "# [\"is upset that he can't update his Facebook by texting it... and might cry as a result  School today also. Blah!\", 0]"
      ],
      "execution_count": 0,
      "outputs": [
        {
          "output_type": "stream",
          "text": [
            "1600000\n",
            "1600000\n",
            "[\"is upset that he can't update his Facebook by texting it... and might cry as a result  School today also. Blah!\", 0]\n"
          ],
          "name": "stdout"
        }
      ]
    },
    {
      "cell_type": "code",
      "metadata": {
        "colab_type": "code",
        "id": "ohOGz24lsNAD",
        "colab": {}
      },
      "source": [
        "sentences=[]\n",
        "labels=[]\n",
        "random.shuffle(corpus)\n",
        "for x in range(training_size):\n",
        "    sentences.append(corpus[x][0])\n",
        "    labels.append(corpus[x][1])\n",
        "\n",
        "\n",
        "tokenizer = Tokenizer()\n",
        "tokenizer.fit_on_texts(sentences)\n",
        "\n",
        "word_index = tokenizer.word_index\n",
        "vocab_size=len(word_index)\n",
        "\n",
        "sequences = tokenizer.texts_to_sequences(sentences)\n",
        "padded = pad_sequences(sequences, maxlen=max_length, padding=padding_type, truncating=trunc_type)\n",
        "\n",
        "split = int(test_portion * training_size)\n",
        "\n",
        "test_sequences = padded[0:split]\n",
        "training_sequences = padded[split:training_size]\n",
        "test_labels = labels[0:split]\n",
        "training_labels = labels[split:training_size]"
      ],
      "execution_count": 0,
      "outputs": []
    },
    {
      "cell_type": "code",
      "metadata": {
        "colab_type": "code",
        "id": "gIrtRem1En3N",
        "outputId": "8f14f6e4-1354-449c-d3ce-9e2272ed397c",
        "colab": {
          "base_uri": "https://localhost:8080/",
          "height": 51
        }
      },
      "source": [
        "print(vocab_size)\n",
        "print(word_index['i'])\n",
        "# Expected Output\n",
        "# 138858\n",
        "# 1"
      ],
      "execution_count": 0,
      "outputs": [
        {
          "output_type": "stream",
          "text": [
            "138634\n",
            "1\n"
          ],
          "name": "stdout"
        }
      ]
    },
    {
      "cell_type": "code",
      "metadata": {
        "colab_type": "code",
        "id": "C1zdgJkusRh0",
        "outputId": "589bb890-38f7-414e-aaca-97a908d2f1b4",
        "colab": {
          "base_uri": "https://localhost:8080/",
          "height": 204
        }
      },
      "source": [
        "# FTC: This is how to use transfer learning for Glove.\n",
        "# FTC: We obtained the \"embeddings_matrix\" and embeddings_vector from GloVe.\n",
        "# Note this is the 100 dimension version of GloVe from Stanford\n",
        "# I unzipped and hosted it on my site to make this notebook easier\n",
        "!wget --no-check-certificate \\\n",
        "    https://storage.googleapis.com/laurencemoroney-blog.appspot.com/glove.6B.100d.txt \\\n",
        "    -O /tmp/glove.6B.100d.txt\n",
        "embeddings_index = {};\n",
        "with open('/tmp/glove.6B.100d.txt') as f:\n",
        "    for line in f:\n",
        "        values = line.split();\n",
        "        word = values[0];\n",
        "        coefs = np.asarray(values[1:], dtype='float32');\n",
        "        embeddings_index[word] = coefs;\n",
        "\n",
        "# create embeddings_matrix of size (vocab_size+1, embedding_dim)\n",
        "embeddings_matrix = np.zeros((vocab_size+1, embedding_dim));\n",
        "for word, i in word_index.items():\n",
        "    embedding_vector = embeddings_index.get(word);\n",
        "    if embedding_vector is not None:\n",
        "        embeddings_matrix[i] = embedding_vector;"
      ],
      "execution_count": 0,
      "outputs": [
        {
          "output_type": "stream",
          "text": [
            "--2020-04-29 05:07:51--  https://storage.googleapis.com/laurencemoroney-blog.appspot.com/glove.6B.100d.txt\n",
            "Resolving storage.googleapis.com (storage.googleapis.com)... 74.125.142.128, 2607:f8b0:400e:c09::80\n",
            "Connecting to storage.googleapis.com (storage.googleapis.com)|74.125.142.128|:443... connected.\n",
            "HTTP request sent, awaiting response... 200 OK\n",
            "Length: 347116733 (331M) [text/plain]\n",
            "Saving to: ‘/tmp/glove.6B.100d.txt’\n",
            "\n",
            "/tmp/glove.6B.100d. 100%[===================>] 331.04M   112MB/s    in 3.0s    \n",
            "\n",
            "2020-04-29 05:07:54 (112 MB/s) - ‘/tmp/glove.6B.100d.txt’ saved [347116733/347116733]\n",
            "\n"
          ],
          "name": "stdout"
        }
      ]
    },
    {
      "cell_type": "code",
      "metadata": {
        "colab_type": "code",
        "id": "71NLk_lpFLNt",
        "outputId": "32ee7728-6188-496a-a5c4-e343caa32cad",
        "colab": {
          "base_uri": "https://localhost:8080/",
          "height": 34
        }
      },
      "source": [
        "print(len(embeddings_matrix))\n",
        "# Expected Output\n",
        "# 138859"
      ],
      "execution_count": 0,
      "outputs": [
        {
          "output_type": "stream",
          "text": [
            "138635\n"
          ],
          "name": "stdout"
        }
      ]
    },
    {
      "cell_type": "code",
      "metadata": {
        "id": "w9vZeP36Opbf",
        "colab_type": "code",
        "colab": {}
      },
      "source": [
        "# FTC: model.fit expects np array not a list\n",
        "training_labels = np.asarray(training_labels)\n",
        "test_labels = np.asarray(test_labels)"
      ],
      "execution_count": 0,
      "outputs": []
    },
    {
      "cell_type": "code",
      "metadata": {
        "colab_type": "code",
        "id": "iKKvbuEBOGFz",
        "outputId": "bf8264de-c0a9-4223-a671-b5e77f74720b",
        "colab": {
          "base_uri": "https://localhost:8080/",
          "height": 1000
        }
      },
      "source": [
        "model = tf.keras.Sequential([\n",
        "    tf.keras.layers.Embedding(vocab_size+1, embedding_dim, input_length=max_length, weights=[embeddings_matrix], trainable=False),\n",
        "    tf.keras.layers.Dropout(0.2),\n",
        "    tf.keras.layers.Conv1D(64, 5, activation='relu'),\n",
        "    tf.keras.layers.MaxPooling1D(pool_size=4),\n",
        "    tf.keras.layers.LSTM(64),\n",
        "    tf.keras.layers.Dense(1, activation='sigmoid')\n",
        "])\n",
        "model.compile(loss='binary_crossentropy',optimizer='adam',metrics=['accuracy'])\n",
        "model.summary()\n",
        "\n",
        "num_epochs = 50\n",
        "history = model.fit(training_sequences, training_labels, epochs=num_epochs, validation_data=(test_sequences, test_labels), verbose=2)\n",
        "\n",
        "print(\"Training Complete\")\n"
      ],
      "execution_count": 0,
      "outputs": [
        {
          "output_type": "stream",
          "text": [
            "Model: \"sequential\"\n",
            "_________________________________________________________________\n",
            "Layer (type)                 Output Shape              Param #   \n",
            "=================================================================\n",
            "embedding (Embedding)        (None, 16, 100)           13863500  \n",
            "_________________________________________________________________\n",
            "dropout (Dropout)            (None, 16, 100)           0         \n",
            "_________________________________________________________________\n",
            "conv1d (Conv1D)              (None, 12, 64)            32064     \n",
            "_________________________________________________________________\n",
            "max_pooling1d (MaxPooling1D) (None, 3, 64)             0         \n",
            "_________________________________________________________________\n",
            "lstm (LSTM)                  (None, 64)                33024     \n",
            "_________________________________________________________________\n",
            "dense (Dense)                (None, 1)                 65        \n",
            "=================================================================\n",
            "Total params: 13,928,653\n",
            "Trainable params: 65,153\n",
            "Non-trainable params: 13,863,500\n",
            "_________________________________________________________________\n",
            "Epoch 1/50\n",
            "4500/4500 - 15s - loss: 0.5682 - accuracy: 0.6982 - val_loss: 0.5271 - val_accuracy: 0.7364\n",
            "Epoch 2/50\n",
            "4500/4500 - 14s - loss: 0.5274 - accuracy: 0.7321 - val_loss: 0.5183 - val_accuracy: 0.7404\n",
            "Epoch 3/50\n",
            "4500/4500 - 14s - loss: 0.5114 - accuracy: 0.7429 - val_loss: 0.5036 - val_accuracy: 0.7523\n",
            "Epoch 4/50\n",
            "4500/4500 - 14s - loss: 0.4997 - accuracy: 0.7522 - val_loss: 0.5042 - val_accuracy: 0.7537\n",
            "Epoch 5/50\n",
            "4500/4500 - 14s - loss: 0.4916 - accuracy: 0.7568 - val_loss: 0.5003 - val_accuracy: 0.7556\n",
            "Epoch 6/50\n",
            "4500/4500 - 14s - loss: 0.4835 - accuracy: 0.7623 - val_loss: 0.5102 - val_accuracy: 0.7464\n",
            "Epoch 7/50\n",
            "4500/4500 - 14s - loss: 0.4782 - accuracy: 0.7660 - val_loss: 0.5017 - val_accuracy: 0.7566\n",
            "Epoch 8/50\n",
            "4500/4500 - 14s - loss: 0.4734 - accuracy: 0.7687 - val_loss: 0.5032 - val_accuracy: 0.7565\n",
            "Epoch 9/50\n",
            "4500/4500 - 14s - loss: 0.4685 - accuracy: 0.7716 - val_loss: 0.5012 - val_accuracy: 0.7539\n",
            "Epoch 10/50\n",
            "4500/4500 - 14s - loss: 0.4637 - accuracy: 0.7752 - val_loss: 0.5045 - val_accuracy: 0.7539\n",
            "Epoch 11/50\n",
            "4500/4500 - 14s - loss: 0.4612 - accuracy: 0.7759 - val_loss: 0.5062 - val_accuracy: 0.7549\n",
            "Epoch 12/50\n",
            "4500/4500 - 15s - loss: 0.4590 - accuracy: 0.7783 - val_loss: 0.5058 - val_accuracy: 0.7563\n",
            "Epoch 13/50\n",
            "4500/4500 - 15s - loss: 0.4569 - accuracy: 0.7788 - val_loss: 0.5081 - val_accuracy: 0.7548\n",
            "Epoch 14/50\n",
            "4500/4500 - 14s - loss: 0.4524 - accuracy: 0.7814 - val_loss: 0.5076 - val_accuracy: 0.7567\n",
            "Epoch 15/50\n",
            "4500/4500 - 15s - loss: 0.4504 - accuracy: 0.7831 - val_loss: 0.5048 - val_accuracy: 0.7544\n",
            "Epoch 16/50\n",
            "4500/4500 - 15s - loss: 0.4489 - accuracy: 0.7853 - val_loss: 0.5127 - val_accuracy: 0.7531\n",
            "Epoch 17/50\n",
            "4500/4500 - 14s - loss: 0.4481 - accuracy: 0.7854 - val_loss: 0.5096 - val_accuracy: 0.7544\n",
            "Epoch 18/50\n",
            "4500/4500 - 14s - loss: 0.4452 - accuracy: 0.7869 - val_loss: 0.5042 - val_accuracy: 0.7553\n",
            "Epoch 19/50\n",
            "4500/4500 - 14s - loss: 0.4442 - accuracy: 0.7865 - val_loss: 0.5144 - val_accuracy: 0.7540\n",
            "Epoch 20/50\n",
            "4500/4500 - 15s - loss: 0.4433 - accuracy: 0.7870 - val_loss: 0.5107 - val_accuracy: 0.7551\n",
            "Epoch 21/50\n",
            "4500/4500 - 15s - loss: 0.4418 - accuracy: 0.7867 - val_loss: 0.5145 - val_accuracy: 0.7472\n",
            "Epoch 22/50\n",
            "4500/4500 - 14s - loss: 0.4420 - accuracy: 0.7879 - val_loss: 0.5178 - val_accuracy: 0.7494\n",
            "Epoch 23/50\n",
            "4500/4500 - 14s - loss: 0.4402 - accuracy: 0.7888 - val_loss: 0.5143 - val_accuracy: 0.7542\n",
            "Epoch 24/50\n",
            "4500/4500 - 14s - loss: 0.4402 - accuracy: 0.7894 - val_loss: 0.5102 - val_accuracy: 0.7520\n",
            "Epoch 25/50\n",
            "4500/4500 - 14s - loss: 0.4399 - accuracy: 0.7897 - val_loss: 0.5154 - val_accuracy: 0.7516\n",
            "Epoch 26/50\n",
            "4500/4500 - 14s - loss: 0.4361 - accuracy: 0.7923 - val_loss: 0.5150 - val_accuracy: 0.7542\n",
            "Epoch 27/50\n",
            "4500/4500 - 14s - loss: 0.4366 - accuracy: 0.7913 - val_loss: 0.5124 - val_accuracy: 0.7552\n",
            "Epoch 28/50\n",
            "4500/4500 - 14s - loss: 0.4366 - accuracy: 0.7922 - val_loss: 0.5140 - val_accuracy: 0.7535\n",
            "Epoch 29/50\n",
            "4500/4500 - 14s - loss: 0.4357 - accuracy: 0.7912 - val_loss: 0.5212 - val_accuracy: 0.7469\n",
            "Epoch 30/50\n",
            "4500/4500 - 14s - loss: 0.4346 - accuracy: 0.7932 - val_loss: 0.5172 - val_accuracy: 0.7522\n",
            "Epoch 31/50\n",
            "4500/4500 - 14s - loss: 0.4346 - accuracy: 0.7929 - val_loss: 0.5161 - val_accuracy: 0.7530\n",
            "Epoch 32/50\n",
            "4500/4500 - 14s - loss: 0.4333 - accuracy: 0.7941 - val_loss: 0.5133 - val_accuracy: 0.7531\n",
            "Epoch 33/50\n",
            "4500/4500 - 14s - loss: 0.4335 - accuracy: 0.7933 - val_loss: 0.5192 - val_accuracy: 0.7509\n",
            "Epoch 34/50\n",
            "4500/4500 - 15s - loss: 0.4349 - accuracy: 0.7934 - val_loss: 0.5166 - val_accuracy: 0.7531\n",
            "Epoch 35/50\n",
            "4500/4500 - 14s - loss: 0.4333 - accuracy: 0.7936 - val_loss: 0.5134 - val_accuracy: 0.7512\n",
            "Epoch 36/50\n",
            "4500/4500 - 14s - loss: 0.4336 - accuracy: 0.7930 - val_loss: 0.5228 - val_accuracy: 0.7513\n",
            "Epoch 37/50\n",
            "4500/4500 - 14s - loss: 0.4312 - accuracy: 0.7946 - val_loss: 0.5272 - val_accuracy: 0.7501\n",
            "Epoch 38/50\n",
            "4500/4500 - 14s - loss: 0.4313 - accuracy: 0.7951 - val_loss: 0.5237 - val_accuracy: 0.7525\n",
            "Epoch 39/50\n",
            "4500/4500 - 14s - loss: 0.4316 - accuracy: 0.7949 - val_loss: 0.5199 - val_accuracy: 0.7516\n",
            "Epoch 40/50\n",
            "4500/4500 - 14s - loss: 0.4311 - accuracy: 0.7945 - val_loss: 0.5187 - val_accuracy: 0.7509\n",
            "Epoch 41/50\n",
            "4500/4500 - 14s - loss: 0.4298 - accuracy: 0.7950 - val_loss: 0.5194 - val_accuracy: 0.7493\n",
            "Epoch 42/50\n",
            "4500/4500 - 15s - loss: 0.4302 - accuracy: 0.7968 - val_loss: 0.5162 - val_accuracy: 0.7481\n",
            "Epoch 43/50\n",
            "4500/4500 - 14s - loss: 0.4294 - accuracy: 0.7964 - val_loss: 0.5211 - val_accuracy: 0.7459\n",
            "Epoch 44/50\n",
            "4500/4500 - 14s - loss: 0.4296 - accuracy: 0.7955 - val_loss: 0.5218 - val_accuracy: 0.7500\n",
            "Epoch 45/50\n",
            "4500/4500 - 14s - loss: 0.4294 - accuracy: 0.7955 - val_loss: 0.5178 - val_accuracy: 0.7490\n",
            "Epoch 46/50\n",
            "4500/4500 - 14s - loss: 0.4294 - accuracy: 0.7964 - val_loss: 0.5193 - val_accuracy: 0.7477\n",
            "Epoch 47/50\n",
            "4500/4500 - 14s - loss: 0.4283 - accuracy: 0.7965 - val_loss: 0.5231 - val_accuracy: 0.7513\n",
            "Epoch 48/50\n",
            "4500/4500 - 14s - loss: 0.4286 - accuracy: 0.7970 - val_loss: 0.5262 - val_accuracy: 0.7494\n",
            "Epoch 49/50\n",
            "4500/4500 - 14s - loss: 0.4282 - accuracy: 0.7979 - val_loss: 0.5234 - val_accuracy: 0.7527\n",
            "Epoch 50/50\n",
            "4500/4500 - 14s - loss: 0.4267 - accuracy: 0.7979 - val_loss: 0.5252 - val_accuracy: 0.7538\n",
            "Training Complete\n"
          ],
          "name": "stdout"
        }
      ]
    },
    {
      "cell_type": "code",
      "metadata": {
        "colab_type": "code",
        "id": "qxju4ItJKO8F",
        "outputId": "2ab34fe1-514f-474c-da71-676a97f04e55",
        "colab": {
          "base_uri": "https://localhost:8080/",
          "height": 607
        }
      },
      "source": [
        "import matplotlib.image  as mpimg\n",
        "import matplotlib.pyplot as plt\n",
        "\n",
        "#-----------------------------------------------------------\n",
        "# Retrieve a list of list results on training and test data\n",
        "# sets for each training epoch\n",
        "#-----------------------------------------------------------\n",
        "acc=history.history['accuracy']\n",
        "val_acc=history.history['val_accuracy']\n",
        "loss=history.history['loss']\n",
        "val_loss=history.history['val_loss']\n",
        "\n",
        "epochs=range(len(acc)) # Get number of epochs\n",
        "\n",
        "#------------------------------------------------\n",
        "# Plot training and validation accuracy per epoch\n",
        "#------------------------------------------------\n",
        "plt.plot(epochs, acc, 'r')\n",
        "plt.plot(epochs, val_acc, 'b')\n",
        "plt.title('Training and validation accuracy')\n",
        "plt.xlabel(\"Epochs\")\n",
        "plt.ylabel(\"Accuracy\")\n",
        "plt.legend([\"Accuracy\", \"Validation Accuracy\"])\n",
        "\n",
        "plt.figure()\n",
        "\n",
        "#------------------------------------------------\n",
        "# Plot training and validation loss per epoch\n",
        "#------------------------------------------------\n",
        "plt.plot(epochs, loss, 'r')\n",
        "plt.plot(epochs, val_loss, 'b')\n",
        "plt.title('Training and validation loss')\n",
        "plt.xlabel(\"Epochs\")\n",
        "plt.ylabel(\"Loss\")\n",
        "plt.legend([\"Loss\", \"Validation Loss\"])\n",
        "\n",
        "plt.figure()\n",
        "\n",
        "\n",
        "# Expected Output\n",
        "# A chart where the validation loss does not increase sharply!"
      ],
      "execution_count": 0,
      "outputs": [
        {
          "output_type": "execute_result",
          "data": {
            "text/plain": [
              "<Figure size 432x288 with 0 Axes>"
            ]
          },
          "metadata": {
            "tags": []
          },
          "execution_count": 11
        },
        {
          "output_type": "display_data",
          "data": {
            "image/png": "[encoded data removed]",
            "text/plain": [
              "<Figure size 432x288 with 1 Axes>"
            ]
          },
          "metadata": {
            "tags": [],
            "needs_background": "light"
          }
        },
        {
          "output_type": "display_data",
          "data": {
            "image/png": "[encoded data removed]",
            "text/plain": [
              "<Figure size 432x288 with 1 Axes>"
            ]
          },
          "metadata": {
            "tags": [],
            "needs_background": "light"
          }
        },
        {
          "output_type": "display_data",
          "data": {
            "text/plain": [
              "<Figure size 432x288 with 0 Axes>"
            ]
          },
          "metadata": {
            "tags": []
          }
        }
      ]
    },
    {
      "cell_type": "code",
      "metadata": {
        "id": "1oiRPSeccQKh",
        "colab_type": "code",
        "colab": {}
      },
      "source": [
        ""
      ],
      "execution_count": 0,
      "outputs": []
    }
  ]
}